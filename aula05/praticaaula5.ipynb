{
 "cells": [
  {
   "cell_type": "code",
   "execution_count": 29,
   "id": "e702987e-f233-4eed-bb0b-10bb1e66bf50",
   "metadata": {},
   "outputs": [],
   "source": [
    "class Pessoa:\n",
    "    def __init__(self, nome, idade):\n",
    "        self.__nome = nome\n",
    "        self.__idade = idade\n",
    "\n",
    "    def faz_aniversario(self):\n",
    "        self.__idade = self.__idade + 1\n",
    "\n",
    "    def get_nome(self):\n",
    "        return self.__nome\n",
    "\n",
    "    def get_idade(self):\n",
    "        return self.__idade\n",
    "    \n",
    "    def __str__(self):\n",
    "        return f\"{self.__nome}, {self.__idade} anos\""
   ]
  },
  {
   "cell_type": "code",
   "execution_count": 33,
   "id": "7b981901-4ef5-43f2-b6f2-90804b93e4ce",
   "metadata": {},
   "outputs": [],
   "source": [
    "pessoa_um = Pessoa(\"Christian\", 18)\n",
    "pessoa_dois = Pessoa(\"Lucas Campos\", 22)"
   ]
  },
  {
   "cell_type": "code",
   "execution_count": 34,
   "id": "841fa8e0-10e3-4a06-a8c0-e70e88b4ba52",
   "metadata": {},
   "outputs": [
    {
     "name": "stdout",
     "output_type": "stream",
     "text": [
      "Christian, 18 anos\n",
      "Lucas Campos, 22 anos\n"
     ]
    }
   ],
   "source": [
    "print(pessoa_um)\n",
    "print(pessoa_dois)"
   ]
  },
  {
   "cell_type": "code",
   "execution_count": 35,
   "id": "5f56b9f9-23c0-4005-96be-629f790890eb",
   "metadata": {
    "scrolled": true
   },
   "outputs": [
    {
     "name": "stdout",
     "output_type": "stream",
     "text": [
      "Christian, 19 anos\n"
     ]
    }
   ],
   "source": [
    "pessoa_um.faz_aniversario()\n",
    "print(pessoa_um)"
   ]
  },
  {
   "cell_type": "code",
   "execution_count": null,
   "id": "5a83e19f-c4e1-4c5c-8531-4ff870155642",
   "metadata": {},
   "outputs": [],
   "source": []
  }
 ],
 "metadata": {
  "kernelspec": {
   "display_name": "Python 3 (ipykernel)",
   "language": "python",
   "name": "python3"
  },
  "language_info": {
   "codemirror_mode": {
    "name": "ipython",
    "version": 3
   },
   "file_extension": ".py",
   "mimetype": "text/x-python",
   "name": "python",
   "nbconvert_exporter": "python",
   "pygments_lexer": "ipython3",
   "version": "3.13.5"
  }
 },
 "nbformat": 4,
 "nbformat_minor": 5
}
