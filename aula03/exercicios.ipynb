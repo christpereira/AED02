{
 "cells": [
  {
   "cell_type": "markdown",
   "id": "bf8023f4-ddda-40dc-933a-b66b508a5445",
   "metadata": {},
   "source": [
    "# Buscar indice com For"
   ]
  },
  {
   "cell_type": "code",
   "execution_count": 21,
   "id": "2a63677c-72a0-4422-a924-3e0a8f0f28db",
   "metadata": {},
   "outputs": [],
   "source": [
    "def find_index(lista, numero):\n",
    "    for indice in range(len(lista)):\n",
    "        if lista[indice] == numero:\n",
    "            return indice\n",
    "    return -1"
   ]
  },
  {
   "cell_type": "code",
   "execution_count": 22,
   "id": "c826d108-f385-4af2-9b75-ee052967ea7f",
   "metadata": {},
   "outputs": [
    {
     "data": {
      "text/plain": [
       "1"
      ]
     },
     "execution_count": 22,
     "metadata": {},
     "output_type": "execute_result"
    }
   ],
   "source": [
    "lista = [2, 3, 4, 5, 6, 7, 8, 9]\n",
    "find_index(lista, 3)"
   ]
  },
  {
   "cell_type": "markdown",
   "id": "713dc789-d81c-483a-ad25-ce9dca09ecb1",
   "metadata": {},
   "source": [
    "# Buscar indice com While"
   ]
  },
  {
   "cell_type": "code",
   "execution_count": 17,
   "id": "ff72075e-c338-4619-960b-1dff5c28b002",
   "metadata": {},
   "outputs": [],
   "source": [
    "def find_index2(lista, valor):\n",
    "    flag = 0\n",
    "    while flag < len(lista):\n",
    "        if lista[flag] == valor:\n",
    "            return flag\n",
    "        flag += 1\n",
    "    return -1"
   ]
  },
  {
   "cell_type": "code",
   "execution_count": 18,
   "id": "5c9f3e3e-65e7-4d9e-9ad3-6b694904abb8",
   "metadata": {},
   "outputs": [
    {
     "data": {
      "text/plain": [
       "1"
      ]
     },
     "execution_count": 18,
     "metadata": {},
     "output_type": "execute_result"
    }
   ],
   "source": [
    "lista = [2, 3, 4, 5, 6, 7, 8, 9]\n",
    "find_index2(lista, 3)"
   ]
  },
  {
   "cell_type": "markdown",
   "id": "2a00fcb0-9e34-4498-9f8b-6e357a82a412",
   "metadata": {},
   "source": [
    "# Buscar clientes em uma lista"
   ]
  },
  {
   "cell_type": "code",
   "execution_count": 23,
   "id": "c86e1f95-3906-46b9-9894-b161d27430ab",
   "metadata": {},
   "outputs": [],
   "source": [
    "def buscar_cliente(nome, lista_clientes):\n",
    "    for i in range(len(lista)):\n",
    "        if lista_clientes[i] == nome:\n",
    "            return i\n",
    "    return -1"
   ]
  },
  {
   "cell_type": "code",
   "execution_count": 25,
   "id": "048c0feb-de2f-4dd7-8516-0ce5ec136377",
   "metadata": {},
   "outputs": [],
   "source": [
    "clientes = [\"Christian\", \"Leonardo\", \"Lucas Campos\", \"Lucas Torres\", \"João Gabriel\", \"Rufinho\"]"
   ]
  },
  {
   "cell_type": "code",
   "execution_count": 27,
   "id": "746d5538-817a-4aa1-82c4-ea9ff1f362ec",
   "metadata": {},
   "outputs": [
    {
     "name": "stdin",
     "output_type": "stream",
     "text": [
      "Escreva o nome que procura:  Christian\n"
     ]
    },
    {
     "name": "stdout",
     "output_type": "stream",
     "text": [
      "O nome Christian foi encontrado no índice 0\n"
     ]
    }
   ],
   "source": [
    "n = str(input(\"Escreva o nome que procura: \"))\n",
    "i = buscar_cliente(n, clientes)\n",
    "if n == -1:\n",
    "    print(\"Nome não encontrado!\")\n",
    "\n",
    "else:\n",
    "    print(f\"O nome {n} foi encontrado no índice {i}\")"
   ]
  },
  {
   "cell_type": "code",
   "execution_count": null,
   "id": "c4892865-06e8-4d9e-b0b2-5948130dd7f4",
   "metadata": {},
   "outputs": [],
   "source": []
  },
  {
   "cell_type": "code",
   "execution_count": 28,
   "id": "b3068594-c96a-4749-abd9-48ebc72307f8",
   "metadata": {},
   "outputs": [
    {
     "name": "stdin",
     "output_type": "stream",
     "text": [
      "Escreva o nome que procura:  Christian\n"
     ]
    },
    {
     "name": "stdout",
     "output_type": "stream",
     "text": [
      "O nome Christian foi encontrado no índice 0\n"
     ]
    },
    {
     "name": "stdin",
     "output_type": "stream",
     "text": [
      "Escreva o nome que procura:  sair\n"
     ]
    }
   ],
   "source": [
    "while True:\n",
    "    n = str(input(\"Escreva o nome que procura: \"))\n",
    "    if n.lower() == \"sair\":\n",
    "        break\n",
    "    else:\n",
    "        i = buscar_cliente(n, clientes)\n",
    "        if n == -1:\n",
    "            print(\"Nome não encontrado!\")\n",
    "        \n",
    "        else:\n",
    "            print(f\"O nome {n} foi encontrado no índice {i}\")"
   ]
  },
  {
   "cell_type": "code",
   "execution_count": null,
   "id": "3139c2d5-200b-40b0-8da9-c9281cf5834a",
   "metadata": {},
   "outputs": [],
   "source": []
  },
  {
   "cell_type": "markdown",
   "id": "50804069-e5cb-48f9-bef8-f42847b3e936",
   "metadata": {},
   "source": [
    "# Projeto 2 - Lista de convidados"
   ]
  },
  {
   "cell_type": "code",
   "execution_count": 39,
   "id": "5795bde2-073c-471e-bc17-4e6f4954b1ca",
   "metadata": {
    "scrolled": true
   },
   "outputs": [
    {
     "name": "stdin",
     "output_type": "stream",
     "text": [
      "Insira o nome do convidado: <digite 'sair' para parar> christian pereira\n",
      "Insira o nome do convidado: <digite 'sair' para parar> lucas campos\n",
      "Insira o nome do convidado: <digite 'sair' para parar> lucas torres\n",
      "Insira o nome do convidado: <digite 'sair' para parar> joao gabriel\n",
      "Insira o nome do convidado: <digite 'sair' para parar> leonardo augusto\n",
      "Insira o nome do convidado: <digite 'sair' para parar> rufinho\n",
      "Insira o nome do convidado: <digite 'sair' para parar> sair\n"
     ]
    }
   ],
   "source": [
    "# Parte 1 - Convidando\n",
    "\n",
    "convidados = []\n",
    "\n",
    "while True:\n",
    "    nome = str(input(\"Insira o nome do convidado: <digite 'sair' para parar>\" ))\n",
    "    if nome.lower() == \"sair\":\n",
    "        break\n",
    "    convidados.append(nome.upper())"
   ]
  },
  {
   "cell_type": "code",
   "execution_count": 36,
   "id": "84541b92-3abf-49f6-b203-065694ed7e64",
   "metadata": {},
   "outputs": [],
   "source": [
    "def busca_nome(nome, lista):\n",
    "    for i in range(len(lista)):\n",
    "        if lista[i] == nome:\n",
    "            return True\n",
    "    return False"
   ]
  },
  {
   "cell_type": "code",
   "execution_count": 43,
   "id": "6c0a8991-7220-4115-a86d-a7e015f98183",
   "metadata": {},
   "outputs": [
    {
     "data": {
      "text/plain": [
       "True"
      ]
     },
     "execution_count": 43,
     "metadata": {},
     "output_type": "execute_result"
    }
   ],
   "source": [
    "busca_nome(\"cHriStian PerEira\".upper(), convidados)"
   ]
  }
 ],
 "metadata": {
  "kernelspec": {
   "display_name": "Python 3 (ipykernel)",
   "language": "python",
   "name": "python3"
  },
  "language_info": {
   "codemirror_mode": {
    "name": "ipython",
    "version": 3
   },
   "file_extension": ".py",
   "mimetype": "text/x-python",
   "name": "python",
   "nbconvert_exporter": "python",
   "pygments_lexer": "ipython3",
   "version": "3.13.5"
  }
 },
 "nbformat": 4,
 "nbformat_minor": 5
}
