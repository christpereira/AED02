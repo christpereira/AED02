{
 "cells": [
  {
   "cell_type": "code",
   "execution_count": 32,
   "id": "8d5eae92-8e4b-427c-91ea-c69abaa338e9",
   "metadata": {},
   "outputs": [],
   "source": [
    "listalivros = (\"attack on titan\", \"Hajime Isayama\", 2009), (\"blame!\", \"Nihei Tsutomo\", 1997), (\"bleach\", \"Tite Kubo\", 2001), (\"innocent\", \"Shinichi Sakamoto\", 2013), (\"pluto\", \"Naoki Urasawa\", 2012), (\"tokyo Ghoul\", \"Sui Ishida\", 2011),  "
   ]
  },
  {
   "cell_type": "code",
   "execution_count": 33,
   "id": "7949e2f3-cc41-4759-acf1-f3019e819d09",
   "metadata": {},
   "outputs": [],
   "source": [
    "listalivros = list(listalivros)"
   ]
  },
  {
   "cell_type": "code",
   "execution_count": 34,
   "id": "bd7c5145-ea22-4d49-8534-2d4f0e109f6a",
   "metadata": {},
   "outputs": [
    {
     "data": {
      "text/plain": [
       "[('attack on titan', 'Hajime Isayama', 2009),\n",
       " ('blame!', 'Nihei Tsutomo', 1997),\n",
       " ('bleach', 'Tite Kubo', 2001),\n",
       " ('innocent', 'Shinichi Sakamoto', 2013),\n",
       " ('pluto', 'Naoki Urasawa', 2012),\n",
       " ('tokyo Ghoul', 'Sui Ishida', 2011)]"
      ]
     },
     "execution_count": 34,
     "metadata": {},
     "output_type": "execute_result"
    }
   ],
   "source": [
    "listalivros"
   ]
  },
  {
   "cell_type": "code",
   "execution_count": 29,
   "id": "68776c02-6e6b-468b-9f03-99f6db8648f9",
   "metadata": {},
   "outputs": [],
   "source": [
    "def encontrar_livros(nome, lista):\n",
    "    esquerda = 0\n",
    "    direita = len(lista) - 1\n",
    "    while esquerda <= direita:\n",
    "        meio = (esquerda + direita) // 2\n",
    "        if nome == lista[meio][0]:\n",
    "            return meio\n",
    "        elif nome < lista[meio][0]:\n",
    "            direita = meio - 1\n",
    "        else:\n",
    "            esquerda = meio + 1\n",
    "    return -1"
   ]
  },
  {
   "cell_type": "code",
   "execution_count": 36,
   "id": "eaf22ff1-06d2-4bde-9dcc-976f339a2f1f",
   "metadata": {},
   "outputs": [
    {
     "name": "stdin",
     "output_type": "stream",
     "text": [
      "Escreva o nome do livro:  attack on titan\n"
     ]
    }
   ],
   "source": [
    "nome = input(\"Escreva o nome do livro: \").lower()"
   ]
  },
  {
   "cell_type": "code",
   "execution_count": 40,
   "id": "cd4d61f0-52a8-4e3d-94a7-a1d0a1aee222",
   "metadata": {},
   "outputs": [],
   "source": [
    "i = encontrar_livros(nome, listalivros)"
   ]
  },
  {
   "cell_type": "code",
   "execution_count": 42,
   "id": "65a09b08-b423-476d-b6f9-fa5a142ac81a",
   "metadata": {},
   "outputs": [
    {
     "name": "stdout",
     "output_type": "stream",
     "text": [
      "('attack on titan', 'Hajime Isayama', 2009)\n"
     ]
    }
   ],
   "source": [
    "if i != -1:\n",
    "    print(listalivros[i])\n",
    "else:\n",
    "    print(\"Livro não encontrado\")"
   ]
  },
  {
   "cell_type": "markdown",
   "id": "248ddc51-c81e-43a3-a98d-81d5608e1104",
   "metadata": {},
   "source": [
    "# Resultado Final"
   ]
  },
  {
   "cell_type": "code",
   "execution_count": 53,
   "id": "2e69938f-ac11-46c6-a1db-892e97e8780a",
   "metadata": {},
   "outputs": [
    {
     "name": "stdout",
     "output_type": "stream",
     "text": [
      "Saiba agora se o livro que deseja está disponível!\n"
     ]
    },
    {
     "name": "stdin",
     "output_type": "stream",
     "text": [
      "Escreva o título do livro:  pluto\n"
     ]
    },
    {
     "name": "stdout",
     "output_type": "stream",
     "text": [
      "O livro PLUTO foi encontrado na posição 0! Autor: Naoki Urasawa, Ano de publicação: 2012\n"
     ]
    }
   ],
   "source": [
    "print(\"Saiba agora se o livro que deseja está disponível!\")\n",
    "nome = input(\"Escreva o título do livro: \").lower()\n",
    "livro = encontrar_livros(nome, listalivros)\n",
    "\n",
    "if livro != -1:\n",
    "    print(f\"O livro {listalivros[livro][0].upper()} foi encontrado na posição {i}! Autor: {listalivros[livro][1]}, Ano de publicação: {listalivros[livro][2]}\")\n",
    "else:\n",
    "    print(\"Infelizmente, o livro não foi encontrado...\")"
   ]
  }
 ],
 "metadata": {
  "kernelspec": {
   "display_name": "Python 3 (ipykernel)",
   "language": "python",
   "name": "python3"
  },
  "language_info": {
   "codemirror_mode": {
    "name": "ipython",
    "version": 3
   },
   "file_extension": ".py",
   "mimetype": "text/x-python",
   "name": "python",
   "nbconvert_exporter": "python",
   "pygments_lexer": "ipython3",
   "version": "3.13.5"
  }
 },
 "nbformat": 4,
 "nbformat_minor": 5
}
